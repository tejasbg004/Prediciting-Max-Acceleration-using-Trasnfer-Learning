{
 "cells": [
  {
   "cell_type": "markdown",
   "id": "dbd6ec14-6344-465e-9134-bbbf35c9961e",
   "metadata": {},
   "source": [
    "# Transfer learning for designing the lattice inspsired from the work of gongora et.al"
   ]
  },
  {
   "cell_type": "code",
   "execution_count": 5,
   "id": "bc944716-2e4a-4e9a-9525-5fba62250e62",
   "metadata": {},
   "outputs": [],
   "source": [
    "import numpy as np\n",
    "import torch\n",
    "import matplotlib.pyplot as plt\n",
    "import sklearn as skl\n",
    "import copy"
   ]
  },
  {
   "cell_type": "code",
   "execution_count": 6,
   "id": "82fb8839-51d8-412a-9b26-a84d96251cfe",
   "metadata": {},
   "outputs": [],
   "source": [
    "from sklearn.gaussian_process import GaussianProcessRegressor\n",
    "from sklearn.model_selection import train_test_split\n",
    "from sklearn.metrics import r2_score\n",
    "from sklearn.gaussian_process.kernels import RBF\n",
    "from sklearn.gaussian_process.kernels import DotProduct, WhiteKernel,Kernel,Hyperparameter,ConstantKernel,Matern, RationalQuadratic\n",
    "from mlxtend.feature_selection import SequentialFeatureSelector as SFS\n",
    "from sklearn.linear_model import LinearRegression, Ridge\n",
    "from sklearn.ensemble import RandomForestRegressor\n",
    "from sklearn.svm import SVR\n",
    "from sklearn.linear_model import Ridge, Lasso\n",
    "from sklearn.model_selection import cross_val_score, KFold\n",
    "from sklearn.preprocessing import PolynomialFeatures\n",
    "from sklearn.model_selection import GridSearchCV\n",
    "from sklearn.metrics import make_scorer, mean_squared_error\n",
    "from sklearn.preprocessing import MinMaxScaler,StandardScaler\n",
    "from sklearn.pipeline import Pipeline\n",
    "from mlxtend.plotting import plot_sequential_feature_selection as plot_sfs\n",
    "from sklearn.model_selection import LeaveOneOut\n",
    "import time\n",
    "import torch.nn as nn\n",
    "import torch\n",
    "import numpy as np\n",
    "import sklearn as skl\n",
    "import matplotlib.pyplot as plt\n",
    "import shutil\n"
   ]
  },
  {
   "cell_type": "markdown",
   "id": "da4c624c-b447-4e47-8861-811610b2a8fc",
   "metadata": {},
   "source": [
    "## Samples from Quasi-static and the corresponding Id"
   ]
  },
  {
   "cell_type": "code",
   "execution_count": 7,
   "id": "e27901f5-7c32-4886-a157-5e689ae91280",
   "metadata": {},
   "outputs": [],
   "source": [
    "samples=np.load('sampled_quasi_series.npy')\n",
    "sample_id=np.load('qs_num_list.npy')"
   ]
  },
  {
   "cell_type": "markdown",
   "id": "9c4aabd5-585d-4132-9eac-1461d739e8c6",
   "metadata": {},
   "source": [
    "## Loading full data corresponding to quasi-static and impact testing"
   ]
  },
  {
   "cell_type": "code",
   "execution_count": 8,
   "id": "8f4c9c97-a808-4ba8-bf9c-527e0752df79",
   "metadata": {},
   "outputs": [],
   "source": [
    "import pandas as pd\n",
    "impact_testing=pd.read_csv('Impact Testing_Dataset_Table.csv')\n",
    "Quasi_static_testing=pd.read_csv('Lattice Data V3.0_Dataset_Table.csv')"
   ]
  },
  {
   "cell_type": "markdown",
   "id": "724cdbe9-1ddf-4112-b91c-e705cd3f6f2f",
   "metadata": {},
   "source": [
    "## choosing the filtered_quasi_data that has corresponding F-D curve from the qs_num_list.npy"
   ]
  },
  {
   "cell_type": "code",
   "execution_count": 9,
   "id": "5b012db2-6631-442c-835a-ff5bf325b1d5",
   "metadata": {},
   "outputs": [],
   "source": [
    "\n",
    "row_index_filtered = []\n",
    "for ii in sample_id:\n",
    "    mask = Quasi_static_testing['WADL ID'] == ii\n",
    "    if mask.any():\n",
    "        row_number = Quasi_static_testing[mask].index[0]\n",
    "        row_index_filtered.append(row_number)\n",
    "Quasi_static_testingg = Quasi_static_testing.iloc[row_index_filtered, :]"
   ]
  },
  {
   "cell_type": "code",
   "execution_count": 10,
   "id": "0a7a6ccb-3381-4ae7-929c-26dfcaab7d74",
   "metadata": {},
   "outputs": [
    {
     "name": "stderr",
     "output_type": "stream",
     "text": [
      "/tmp/ipykernel_1699/628023494.py:1: UserWarning: Boolean Series key will be reindexed to match DataFrame index.\n",
      "  Quasi_static_testing_Octet=Quasi_static_testingg[Quasi_static_testing['Unit Cell Type']=='Octet']\n"
     ]
    }
   ],
   "source": [
    "Quasi_static_testing_Octet=Quasi_static_testingg[Quasi_static_testing['Unit Cell Type']=='Octet']\n",
    "wadl_id=Quasi_static_testing_Octet['WADL ID'].tolist()"
   ]
  },
  {
   "cell_type": "code",
   "execution_count": 11,
   "id": "f72d0a69-8ec8-4412-9b04-ce07649f185d",
   "metadata": {},
   "outputs": [
    {
     "name": "stdout",
     "output_type": "stream",
     "text": [
      "(671,)\n"
     ]
    }
   ],
   "source": [
    "## Finding the row number for sample_id corresponding to the Octet design\n",
    "\n",
    "row_index_sampleid = []\n",
    "for ii in wadl_id:\n",
    "    mask = sample_id == ii\n",
    "    if mask.any():\n",
    "        row_number = np.where(mask)[0][0]\n",
    "        row_index_sampleid.append(row_number)\n",
    "sample_id_final = sample_id[row_index_sampleid]\n",
    "samples_final=samples[row_index_sampleid]\n",
    "print(sample_id_final.shape)\n"
   ]
  },
  {
   "cell_type": "markdown",
   "id": "d89eded5-4d7b-443f-ae32-cbdc7705ccc7",
   "metadata": {},
   "source": [
    "## Filter out rows from quasi-static where the value in the imapact column is not None"
   ]
  },
  {
   "cell_type": "code",
   "execution_count": 12,
   "id": "f13ecf87-4ec3-492f-8522-3857f64b2c4a",
   "metadata": {
    "scrolled": true
   },
   "outputs": [],
   "source": [
    "filtered_data_quasi = Quasi_static_testing_Octet[Quasi_static_testing_Octet['IT ID'].notna()& (Quasi_static_testing_Octet['IT ID'] != '') & (Quasi_static_testing_Octet['Unit Cell Type']=='Octet')]\n"
   ]
  },
  {
   "cell_type": "markdown",
   "id": "06a1655d-e205-4029-b20c-0c6a8e1c15e1",
   "metadata": {},
   "source": [
    "## Filter out rows from impact where the value in the Quasi-static column is not None and acclerations are not zero"
   ]
  },
  {
   "cell_type": "code",
   "execution_count": 13,
   "id": "aab1fe18-adb4-48bb-ac6e-e4e5b3819a9a",
   "metadata": {},
   "outputs": [],
   "source": [
    "impact_testing.columns = impact_testing.columns.str.replace(\"g's\", 'g', regex=False)\n",
    "\n"
   ]
  },
  {
   "cell_type": "code",
   "execution_count": 14,
   "id": "88ce839f-3afa-4e97-88db-1659b4121b5a",
   "metadata": {},
   "outputs": [],
   "source": [
    "impact_testing['WADL ID'] = impact_testing['WADL ID'].apply(lambda x: None if x == 'None' else x)\n",
    "filtered_data_impact_1 = impact_testing[impact_testing['WADL ID'].notna()& (impact_testing['WADL ID'] != '') & impact_testing['Acceleration 1 (g)']!=0]   \n",
    "\n",
    "filtered_data_impact_2 = impact_testing[impact_testing['WADL ID'].notna()& (impact_testing['WADL ID'] != '') & impact_testing['Acceleration 2 (g)']!=0]          \n",
    "\n",
    "\n",
    "\n",
    "\n",
    "\n",
    "  "
   ]
  },
  {
   "cell_type": "code",
   "execution_count": 15,
   "id": "306b04b4-27f0-450d-9f17-1781e849910e",
   "metadata": {},
   "outputs": [
    {
     "name": "stderr",
     "output_type": "stream",
     "text": [
      "/tmp/ipykernel_1699/665128768.py:5: FutureWarning: Downcasting behavior in `replace` is deprecated and will be removed in a future version. To retain the old behavior, explicitly call `result.infer_objects(copy=False)`. To opt-in to the future behavior, set `pd.set_option('future.no_silent_downcasting', True)`\n",
      "  filtered_data_quasi['Unit Cell Type']=filtered_data_quasi['Unit Cell Type'].replace(mapping)\n"
     ]
    }
   ],
   "source": [
    "\n",
    "filtered_data_quasi=filtered_data_quasi.sort_values(by='WADL ID')\n",
    "\n",
    "mapping={'Octet':1,'Reinforced Octet':2,'Octahedral':3,'Reinforced Octahedral':4,'Body-Centered Cubic':5}\n",
    "\n",
    "filtered_data_quasi['Unit Cell Type']=filtered_data_quasi['Unit Cell Type'].replace(mapping)\n",
    "\n"
   ]
  },
  {
   "cell_type": "markdown",
   "id": "4d996c46-479c-43a4-9ea6-bf4c1908d65d",
   "metadata": {},
   "source": [
    "## Using GRU to reduce the Dimension of the F-D Curve from 148 to 2"
   ]
  },
  {
   "cell_type": "code",
   "execution_count": 16,
   "id": "232d6d16-7af7-456f-a6ea-796bece785cd",
   "metadata": {},
   "outputs": [],
   "source": [
    "global device, print_freq\n",
    "print_freq = 50\n",
    "device = torch.device('cuda')\n",
    "\n"
   ]
  },
  {
   "cell_type": "code",
   "execution_count": 17,
   "id": "a7b09bd5-b1bc-461d-9e31-7293e7048735",
   "metadata": {},
   "outputs": [],
   "source": [
    "# GRU auto encoder\n",
    "class GRU_encoder(torch.nn.Module):\n",
    "\n",
    "    def __init__(self,reduced_size=2,num_layers=3,hidden_size=50):\n",
    "        super().__init__()\n",
    "        self.leakrelu = torch.nn.LeakyReLU()\n",
    "        self.gru = torch.nn.GRU(3, hidden_size, num_layers, batch_first=True)\n",
    "        self.fc1 = torch.nn.Linear(hidden_size, reduced_size)\n",
    "        self.num_layers = num_layers\n",
    "        self.hidden_size = hidden_size\n",
    "\n",
    "    def forward(self, x):\n",
    "        a0 = torch.zeros(self.num_layers, x.shape[0], self.hidden_size).to(device)\n",
    "        out, a = self.gru(x, a0)\n",
    "\n",
    "        out = self.leakrelu(out)\n",
    "        out = self.fc1(out)\n",
    "\n",
    "        return out,x\n",
    "\n",
    "class GRU_decoder(torch.nn.Module):\n",
    "\n",
    "    def __init__(self,reduced_size=2,num_layers=3,hidden_size=50):\n",
    "        super().__init__()\n",
    "\n",
    "        self.leakrelu = torch.nn.LeakyReLU()\n",
    "        self.gru = torch.nn.GRU(reduced_size+1, hidden_size, num_layers, batch_first=True)\n",
    "        self.fc1 = torch.nn.Linear(hidden_size, 3)\n",
    "        self.num_layers = num_layers\n",
    "        self.hidden_size = hidden_size\n",
    "        self.reduced_size=reduced_size\n",
    "\n",
    "    def forward(self, a0_init,x):\n",
    "\n",
    "        # a0_init = self.fc1(a00)\n",
    "        a0 = torch.zeros(self.num_layers, a0_init.shape[0], self.hidden_size).to(device)\n",
    "        aug_a = a0_init.repeat(1, samples.shape[1]).reshape(a0_init.shape[0],\n",
    "                                               samples.shape[1], a0_init.shape[1])\n",
    "\n",
    "        #print(aug_a.shape)\n",
    "        #print(samples[:,:,0].shape)\n",
    "        aug_a1=torch.cat((aug_a,(x[:,:,0]).unsqueeze(2).to(device).float()),dim=2)\n",
    "        # inp = torch.cat(aug_a, axis=2)\n",
    "        out, a = self.gru(aug_a1, a0)\n",
    "        out = self.leakrelu(out)\n",
    "        out = self.fc1(out)\n",
    "        return out\n",
    "\n",
    "class GRU_encoder_decoder(torch.nn.Module):\n",
    "\n",
    "    def __init__(self):\n",
    "        super().__init__()\n",
    "\n",
    "        self.encoder = GRU_encoder()\n",
    "        self.decoder = GRU_decoder()\n",
    "\n",
    "    def forward(self, inp_encoder):\n",
    "\n",
    "        y_code,x = self.encoder(inp_encoder)\n",
    "        #print(y_code[:, y_code.shape[1] - 1].shape)\n",
    "        y_recovered = self.decoder(y_code[:, y_code.shape[1] - 1],x)\n",
    "        return y_recovered,y_code[:, y_code.shape[1] - 1]"
   ]
  },
  {
   "cell_type": "code",
   "execution_count": 18,
   "id": "5c2bafe7-36f5-43ea-885f-504cd54fb161",
   "metadata": {},
   "outputs": [
    {
     "name": "stdout",
     "output_type": "stream",
     "text": [
      "torch.Size([671, 148, 3])\n",
      "torch.Size([671, 2])\n"
     ]
    }
   ],
   "source": [
    "encoder_decoder = GRU_encoder_decoder().to(device)\n",
    "\n",
    "test_sample=torch.from_numpy(samples_final)\n",
    "#test_sample = torch.normal(0, 1, size=(6, 150, 3))\n",
    "y,y_encoded = encoder_decoder(test_sample.to(device).float())\n",
    "print(y.shape)\n",
    "print(y_encoded.shape)"
   ]
  },
  {
   "cell_type": "code",
   "execution_count": 19,
   "id": "146727f8-1384-4083-bfb5-7b14014eaa80",
   "metadata": {},
   "outputs": [],
   "source": [
    "print_freq = 400\n",
    "\n",
    "class MinMax_Scaler(object):\n",
    "\n",
    "    def __init__(self, data, keep_data=False):\n",
    "        self.min = np.min(data, axis=(0, 1), keepdims=True)\n",
    "        self.max = np.max(data, axis=(0, 1), keepdims=True)\n",
    "\n",
    "        if keep_data is True:\n",
    "            self.data = self.transform(data, tensor=False)\n",
    "        else:\n",
    "            self.data = []\n",
    "\n",
    "    def transform(self, data, tensor_format=False):\n",
    "        if tensor_format is False:\n",
    "            data = (data - self.min) / (self.max - self.min)\n",
    "        else:\n",
    "            min_tensor = torch.tensor(self.min).to(device)\n",
    "            max_tensor = torch.tensor(self.max).to(device)\n",
    "            for c in range(data.shape[2]):\n",
    "                data[:, :, c] = torch.div(torch.sub(data[:, :, c], min_tensor[0, 0, c]), torch.sub(max_tensor[0, 0, c], min_tensor[0, 0, c]))\n",
    "        return data\n",
    "\n",
    "    def inv_transform(self, data, tensor_format=False):\n",
    "        if tensor_format is False:\n",
    "            data = data * (self.max - self.min) + self.min\n",
    "        else:\n",
    "            min_tensor = torch.tensor(self.min).to(device)\n",
    "            max_tensor = torch.tensor(self.max).to(device)\n",
    "            for c in range(data.shape[2]):\n",
    "                data[:, :, c] = torch.add(torch.mul(data[:, :, c], torch.sub(max_tensor[0, 0, c], min_tensor[0, 0, c])), min_tensor[0, 0, c])\n",
    "        return data\n",
    "\n",
    "class MyDataset(torch.utils.data.Dataset):\n",
    "\n",
    "    def __init__(self, strain, stress):\n",
    "        self.strain = strain\n",
    "        self.stress = stress\n",
    "\n",
    "    def __len__(self):\n",
    "        return self.strain.shape[0]\n",
    "\n",
    "    def __getitem__(self, index):\n",
    "        return self.strain[index], self.stress[index]\n",
    "\n",
    "\n",
    "class AverageMeter(object):\n",
    "    # Computes and stores the average and current value\n",
    "\n",
    "    def __init__(self):\n",
    "        self.reset()\n",
    "\n",
    "    def reset(self):\n",
    "        self.val = 0\n",
    "        self.avg = 0\n",
    "        self.sum = 0\n",
    "        self.count = 0\n",
    "\n",
    "    def update(self, val, n=1):\n",
    "        self.val = val\n",
    "        self.sum += val * n\n",
    "        self.count += n\n",
    "        self.avg = self.sum / self.count\n",
    "\n",
    "\n",
    "def customized_loss(output, target):\n",
    "\n",
    "    mse = torch.nn.MSELoss()\n",
    "\n",
    "    output1 = output[:, :, 0:3]\n",
    "    output2 = output[:, :, 3:6]\n",
    "\n",
    "    target1 = target[:, :, 0:3]\n",
    "    target2 = target[:, :, 3:6]\n",
    "\n",
    "    return 0.5 * torch.maximum(mse(output1, target1), mse(output2, target2))\n",
    "\n",
    "def train_step(train_loader, model, criterion, optimizer, epoch, net_info):\n",
    "    batch_time = AverageMeter()\n",
    "    data_time = AverageMeter()\n",
    "    losses = AverageMeter()\n",
    "\n",
    "    # switch to train mode\n",
    "    model.train()\n",
    "\n",
    "    end = time.time()\n",
    "    for i, (input, target) in enumerate(train_loader):\n",
    "        # measure data loading time\n",
    "        data_time.update(time.time() - end)\n",
    "\n",
    "        input = input.to(device)\n",
    "        target = target.to(device)\n",
    "\n",
    "        # compute output\n",
    "        output,_ = model(input)\n",
    "        loss = criterion(output, target)\n",
    "        # measure accuracy and record loss\n",
    "        losses.update(loss.item(), input.size(0))\n",
    "\n",
    "        # compute gradient and do the SGD step\n",
    "        optimizer.zero_grad()\n",
    "        loss.backward()\n",
    "\n",
    "        # torch.nn.utils.clip_grad_norm_(model.parameters(), 0.1)\n",
    "        optimizer.step()\n",
    "\n",
    "        # measure elapsed time\n",
    "        batch_time.update(time.time() - end)\n",
    "        end = time.time()\n",
    "\n",
    "        if epoch % 500 == 0:\n",
    "            if i % print_freq == 0:\n",
    "                curr_lr = optimizer.param_groups[0]['lr']\n",
    "                print('Epoch: [{0}/{1}][{2}/{3}]\\t'\n",
    "                    'LR: {4}\\t'\n",
    "                    'Time {batch_time.val:.3f} ({batch_time.avg:.3f})\\t'\n",
    "                    'Data {data_time.val:.3f} ({data_time.avg:.3f})\\t'\n",
    "                    'Loss {loss.val:.7f} ({loss.avg:.6f})\\t'.format(\n",
    "                    epoch, net_info['epochs'], i, len(train_loader), curr_lr,\n",
    "                    batch_time=batch_time, data_time=data_time, loss=losses))\n",
    "    return losses.avg\n",
    "\n",
    "\n",
    "def test_step(test_loader, model, criterion, epoch):\n",
    "    batch_time = AverageMeter()\n",
    "    losses = AverageMeter()\n",
    "    # violation = AverageMeter()\n",
    "\n",
    "    # switch to evaluate mode\n",
    "    model.eval()\n",
    "\n",
    "    end = time.time()\n",
    "    for i, (input, target) in enumerate(test_loader):\n",
    "\n",
    "        input = input.to(device)\n",
    "        target = target.to(device)\n",
    "\n",
    "        # compute output\n",
    "        output,_ = model(input)\n",
    "        loss = criterion(output, target)\n",
    "\n",
    "        # measure accuracy and record loss\n",
    "        losses.update(loss.item(), input.size(0))\n",
    "\n",
    "        # measure elapsed time\n",
    "        batch_time.update(time.time() - end)\n",
    "        end = time.time()\n",
    "\n",
    "        if epoch % 500 == 0:\n",
    "            if i % print_freq == 0:\n",
    "                print('Test: [{0}/{1}]\\t'\n",
    "                    'Time {batch_time.val:.3f} ({batch_time.avg:.3f})\\t'\n",
    "                    'Loss {loss.val:.7f} ({loss.avg:.4f})\\t'.format(\n",
    "                    i, len(test_loader), batch_time=batch_time, loss=losses))\n",
    "\n",
    "    return losses.avg\n",
    "\n",
    "#@title train_RNN()\n",
    "def save_checkpoint(state, is_best, filename='checkpoint.pth.tar'):\n",
    "    torch.save(state, filename)\n",
    "    if is_best:\n",
    "        shutil.copyfile(filename, 'model_best(OCTET)_tr.pth.tar')\n",
    "\n",
    "\n",
    "def train_GRU(model, net_info, train_loader, test_loader,net_params):\n",
    "\n",
    "    epochs = net_info['epochs']\n",
    "    train_losses = np.empty([epochs, 1])\n",
    "    test_losses = np.empty([epochs, 1])\n",
    "\n",
    "    min_loss = 1e4\n",
    "\n",
    "    criterion = nn.MSELoss()\n",
    "    optimizer = torch.optim.Adam(model.parameters(), lr=net_info['lr0'])\n",
    "\n",
    "    for epoch in range(epochs):\n",
    "        # adjust learning rate\n",
    "        if epoch >= 50:\n",
    "            if epoch % 50 == 0:\n",
    "                for param_group in optimizer.param_groups:\n",
    "                    param_group['lr'] *= net_info['lr_decay']\n",
    "\n",
    "        # train for one epoch\n",
    "        train_losses_temp = train_step(train_loader, model, criterion, optimizer, epoch, net_info)\n",
    "        train_losses[epoch] = train_losses_temp\n",
    "\n",
    "        # evaluate on test set\n",
    "        test_losses_temp = test_step(test_loader, model, criterion, epoch)\n",
    "        test_losses[epoch] = test_losses_temp\n",
    "\n",
    "        # remember best MSE and save checkpoint\n",
    "        is_best = test_losses[epoch] < min_loss\n",
    "        min_loss = min(test_losses[epoch], min_loss)\n",
    "        save_checkpoint({\n",
    "            'epoch': epoch + 1,\n",
    "            'state_dict': model.state_dict(),\n",
    "            'min_loss': min_loss,\n",
    "            'optimizer': optimizer.state_dict(),\n",
    "        }, is_best)\n",
    "\n",
    "    test_losses.tofile('test_loss' + str(net_info['train_size']) + '2l50h.csv', sep=\",\", format=\"%10.5f\")\n",
    "    train_losses.tofile('train_loss' + str(net_info['train_size']) + '2l50h.csv', sep=\",\", format=\"%10.5f\")\n",
    "\n",
    "    plt.figure(figsize=(10, 7))\n",
    "    plt.plot(train_losses, label='training')\n",
    "    plt.plot(test_losses, '--', label='test')\n",
    "    plt.xlabel('epoch')\n",
    "    plt.ylabel('MSE')\n",
    "    plt.title('Training and Test Loss\\n(hidden size=%s, num layers=%s model'%(net_params['hidden_size'],net_params['num_layers']))\n",
    "    plt.yscale('log')\n",
    "    plt.legend()\n",
    "    plt.show()\n",
    "\n",
    "    return model\n",
    "#@title main_program()\n",
    "def main_program(strain, stress,net_params,model, trainer_info, model_name):\n",
    "    num_sample = trainer_info['train_size']\n",
    "    strain_train = strain[0:num_sample, :, :]\n",
    "    stress_train = stress[0:num_sample, :, :]\n",
    "    training_set = MyDataset(strain_train, stress_train)\n",
    "\n",
    "    strain_test = strain[num_sample:strain.shape[0], :, :]\n",
    "    stress_test = stress[num_sample:strain.shape[0], :, :]\n",
    "    val_set = MyDataset(strain_test, stress_test)\n",
    "\n",
    "    # create training/test loaders\n",
    "    train_loader = torch.utils.data.DataLoader(dataset=training_set,\n",
    "                                               batch_size=trainer_info['train_batch'],\n",
    "                                               shuffle=True)\n",
    "\n",
    "    test_loader = torch.utils.data.DataLoader(dataset=val_set,\n",
    "                                              batch_size=trainer_info['test_batch'],\n",
    "                                              shuffle=True)\n",
    "\n",
    "    model = train_GRU(model, trainer_info, train_loader, test_loader,net_params)\n",
    "    torch.save(model.state_dict(), model_name)\n",
    "\n",
    "    return model\n",
    "\n",
    "\n"
   ]
  },
  {
   "cell_type": "code",
   "execution_count": 20,
   "id": "7a055ac1-6fdf-4cda-b678-69c29bb17b24",
   "metadata": {},
   "outputs": [],
   "source": [
    "net_params = {'input_size': 3,\n",
    "              'hidden_size': 50,\n",
    "              'num_layers': 2,\n",
    "              'output_size': 3}\n",
    "\n",
    "trainer_info = {'epochs': 3600,\n",
    "                'train_size': 535,\n",
    "                'train_batch': 64,\n",
    "                'test_batch': 256,\n",
    "                'lr0': 1.0e-2,\n",
    "                'lr_decay': 0.7}\n",
    "\n",
    "note = 'ann'\n",
    "model_name = 'model' + '_' + str(trainer_info['train_size']) + 'train_' + str(net_params['num_layers']) + 'layer_' + str(net_params['hidden_size']) + 'hid_' + str(trainer_info['epochs']) + 'ep_' + note\n"
   ]
  },
  {
   "cell_type": "code",
   "execution_count": 21,
   "id": "4e6bff1f-6942-4767-b902-f26c7f78b5b0",
   "metadata": {},
   "outputs": [
    {
     "name": "stdout",
     "output_type": "stream",
     "text": [
      "(671, 148, 3)\n"
     ]
    }
   ],
   "source": [
    "samples_final=samples_final.astype(np.float32)\n",
    "test_s=MinMax_Scaler(samples_final)\n",
    "test_samples=test_s.transform(samples_final)\n",
    "test_samples=test_samples.astype(np.float32)\n",
    "print(test_samples.shape)"
   ]
  },
  {
   "cell_type": "code",
   "execution_count": null,
   "id": "d05ceb90-447a-43ef-8f34-fb553c525999",
   "metadata": {},
   "outputs": [],
   "source": [
    "model=GRU_encoder_decoder().to(device).float()\n",
    "print(test_samples.shape)\n",
    "import time\n",
    "start_time = time.time()\n",
    "\n",
    "model = main_program(test_samples,test_samples, net_params,model, trainer_info, model_name)\n",
    "\n",
    "end_time = time.time()\n",
    "\n",
    "execution_time = end_time - start_time\n",
    "print(f\"Execution Time: {execution_time} seconds\")"
   ]
  },
  {
   "cell_type": "code",
   "execution_count": 23,
   "id": "3484b6f3-04e7-4b5c-a632-f41f3877d805",
   "metadata": {},
   "outputs": [],
   "source": [
    "best_model_params = torch.load('model_best(OCTET).pth.tar', map_location=device)['state_dict']"
   ]
  },
  {
   "cell_type": "code",
   "execution_count": 24,
   "id": "000b900e-e853-4bc1-b15d-71920e5a7bc5",
   "metadata": {},
   "outputs": [
    {
     "data": {
      "text/plain": [
       "<All keys matched successfully>"
      ]
     },
     "execution_count": 24,
     "metadata": {},
     "output_type": "execute_result"
    }
   ],
   "source": [
    "model = GRU_encoder_decoder().to(device)\n",
    "model.load_state_dict(best_model_params)"
   ]
  },
  {
   "cell_type": "code",
   "execution_count": 25,
   "id": "dfde021b-4466-47bb-93ba-3204ed9c1b48",
   "metadata": {},
   "outputs": [
    {
     "name": "stdout",
     "output_type": "stream",
     "text": [
      "(671, 148, 3)\n"
     ]
    }
   ],
   "source": [
    "print(test_samples.shape)\n"
   ]
  },
  {
   "cell_type": "code",
   "execution_count": 26,
   "id": "fcb97253-f461-4f13-9592-3c4f17ebdc2c",
   "metadata": {},
   "outputs": [],
   "source": [
    "reconstruction,reduced_force_GRU=model(torch.from_numpy(test_samples).to(device).float())\n"
   ]
  },
  {
   "cell_type": "code",
   "execution_count": 27,
   "id": "6a805b5c-c126-48e0-8df4-ccecc8ad6d4c",
   "metadata": {},
   "outputs": [
    {
     "data": {
      "text/plain": [
       "torch.Size([671, 2])"
      ]
     },
     "execution_count": 27,
     "metadata": {},
     "output_type": "execute_result"
    }
   ],
   "source": [
    "reduced_force_GRU.shape"
   ]
  },
  {
   "cell_type": "code",
   "execution_count": 41,
   "id": "6ad89ddd-1688-4017-bc4d-f8083ed6fa63",
   "metadata": {},
   "outputs": [],
   "source": [
    "Force=(samples_final[:,:,1])\n",
    "meanF=np.mean(Force,axis=0,keepdims=True)\n",
    "Sigma=np.cov(Force.T)\n",
    "eig,Phi=np.linalg.eig(Sigma)\n",
    "Force_reduced=np.matmul(Phi[:,0:11].T,Force.T-meanF.T)\n",
    "Force_reconstructed=np.matmul(Phi[:,0:11],Force_reduced) +meanF.T "
   ]
  },
  {
   "cell_type": "code",
   "execution_count": 42,
   "id": "f168979d-bfe8-4b0d-b3a8-e095e34821ce",
   "metadata": {},
   "outputs": [
    {
     "name": "stdout",
     "output_type": "stream",
     "text": [
      "(11, 671)\n"
     ]
    }
   ],
   "source": [
    "print(Force_reduced.shape)"
   ]
  },
  {
   "cell_type": "code",
   "execution_count": 47,
   "id": "6c024b64-9297-4a8c-9598-73473bcb6708",
   "metadata": {
    "scrolled": true
   },
   "outputs": [
    {
     "name": "stdout",
     "output_type": "stream",
     "text": [
      "(671, 148)\n",
      "(671, 148)\n"
     ]
    }
   ],
   "source": [
    "print(samples_final[:,:,1].shape)\n",
    "Force_recon=Force_reconstructed.T\n",
    "print(Force_recon.shape)"
   ]
  },
  {
   "cell_type": "code",
   "execution_count": 55,
   "id": "3fb71ce2-8a92-4d81-b762-a7d865ddd580",
   "metadata": {
    "scrolled": true
   },
   "outputs": [
    {
     "name": "stdout",
     "output_type": "stream",
     "text": [
      "[202.     202.1141 202.2484 202.3813 202.5143 202.6483 202.7814 202.9147\n",
      " 203.0478 203.1815 203.315  203.4473 203.5815 203.7151 203.8475 203.9818\n",
      " 204.1145 204.2478 204.3815 204.5147 204.6482 204.7808 204.9149 205.0483\n",
      " 205.1806 205.315  205.4482 205.581  205.7149 205.848  205.9813 206.1146\n",
      " 206.2481 206.3817 206.5139 206.6483 206.7814 206.914  207.0483 207.1815\n",
      " 207.3145 207.4481 207.5814 207.7148 207.8475 207.9815 208.1151 208.2474\n",
      " 208.3818 208.5147 208.6476 208.7817 208.9147 209.048  209.1811 209.3147\n",
      " 209.4482 209.5807 209.715  209.8484 209.9808 210.1151 210.2479 210.3812\n",
      " 210.5147 210.6481 210.7815 210.9142 211.0482 211.1816 211.3139 211.4483\n",
      " 211.5815 211.7144 211.8483 211.9812 212.1147 212.2478 212.3814 212.515\n",
      " 212.6473 212.7816 212.9149 213.0474 213.1817 213.3149 213.4478 213.5813\n",
      " 213.7147 213.8481 213.981  214.1148 214.2484 214.3807 214.5151 214.6479\n",
      " 214.7809 214.915  215.0479 215.1814 215.3143 215.4481 215.5815 215.714\n",
      " 215.8482 215.9816 216.1142 216.2484 216.3813 216.5146 216.648  216.7813\n",
      " 216.9149 217.0475 217.1815 217.3149 217.4473 217.5817 217.715  217.8477\n",
      " 217.9816 218.1146 218.2481 218.3811 218.5148 218.6483 218.7807 218.915\n",
      " 219.0482 219.1807 219.315  219.4482 219.5812 219.7146 219.8479 219.9816\n",
      " 220.1142 220.2482 220.3817 220.5141 220.6484 220.7812 220.9143 221.0482\n",
      " 221.1813 221.3148 221.4476 221.5815]\n"
     ]
    }
   ],
   "source": [
    "print(samples_final[550,:,1])"
   ]
  },
  {
   "cell_type": "code",
   "execution_count": 59,
   "id": "4e389886-373d-4611-ac0b-861e06702541",
   "metadata": {
    "scrolled": true
   },
   "outputs": [
    {
     "data": {
      "image/png": "[encoded data removed]",
      "text/plain": [
       "<Figure size 800x500 with 1 Axes>"
      ]
     },
     "metadata": {},
     "output_type": "display_data"
    }
   ],
   "source": [
    "# Example data (replace with your actual data)\n",
    "actual=test_s.inv_transform(test_samples)[650,:,:]\n",
    "reconstructed=test_s.inv_transform(reconstruction.cpu().detach().numpy())[650,:,:]\n",
    "\n",
    "# Create a figure and axis\n",
    "fig, ax = plt.subplots(figsize=(8, 5))  # Larger size for better visibility\n",
    "\n",
    "# Plot actual and reconstructed data\n",
    "ax.plot(actual[:, 2], actual[:, 1], label='Actual', color='blue', linewidth=2, linestyle='-', alpha=0.8)\n",
    "ax.plot(actual[:, 2], reconstructed[:, 1], label='Reconstructed', color='red', linewidth=2, linestyle='--', alpha=0.8)\n",
    "#ax.plot(actual[:, 2], Force_reconstructed[:,2], label='Reconstruction from PCA', color='orange', linewidth=2, linestyle='--', alpha=0.8)\n",
    "\n",
    "# Add labels with LaTeX formatting\n",
    "ax.set_xlabel(r'$\\mathbf{Displacement}$', fontsize=14, labelpad=10, fontweight='bold')\n",
    "ax.set_ylabel(r'$\\mathbf{Force}$', fontsize=14, labelpad=10, fontweight='bold')\n",
    "\n",
    "# Add a title\n",
    "ax.set_title('Comparison Between Actual and Reconstructed Force-Displacement Curve',\n",
    "             fontsize=16, fontweight='bold', pad=20)\n",
    "\n",
    "# Customize legend\n",
    "ax.legend(fontsize=12, loc='lower right', frameon=True, fancybox=True, shadow=True, borderpad=1)\n",
    "\n",
    "# Add grid for better readability\n",
    "ax.grid(True, linestyle='--', alpha=0.6)\n",
    "\n",
    "# Customize tick parameters\n",
    "ax.tick_params(axis='both', which='major', labelsize=12)\n",
    "\n",
    "# Adjust layout\n",
    "fig.tight_layout()\n",
    "\n",
    "# Show the plot\n",
    "plt.show()\n",
    "\n"
   ]
  },
  {
   "cell_type": "code",
   "execution_count": null,
   "id": "efd661d5-e0af-49a2-ad3e-dd7f805270b9",
   "metadata": {},
   "outputs": [],
   "source": [
    "import matplotlib.pyplot as plt\n",
    "\n"
   ]
  },
  {
   "cell_type": "markdown",
   "id": "21732b01-a07f-4b6d-9b4a-47c6ed7bb4dd",
   "metadata": {},
   "source": [
    "## Choosing WADL ID(quasi-static data) that is used by Impact test."
   ]
  },
  {
   "cell_type": "code",
   "execution_count": 117,
   "id": "20912101-01c2-41a9-a5b5-34ef00dc7012",
   "metadata": {},
   "outputs": [],
   "source": [
    "collumns=Quasi_static_testing_Octet['IT ID']\n",
    "WADL_id= Quasi_static_testing_Octet['WADL ID'].tolist()\n",
    "rows=[]\n",
    "WADL_ID=[]\n",
    "jj=0\n",
    "for i in collumns:\n",
    "    if (pd.notna(i) and i !=''):\n",
    "        WADL_ID.append(WADL_id[jj])\n",
    "    jj=jj+1"
   ]
  },
  {
   "cell_type": "markdown",
   "id": "3d1a5ef5-5de3-4abf-82e8-39773f695023",
   "metadata": {},
   "source": [
    "## Filtering out WADL ID that isn't present in sample_id.npy and getting the row index of that WADL id"
   ]
  },
  {
   "cell_type": "code",
   "execution_count": 118,
   "id": "0c9ca1c7-ca34-4308-b2ca-080675235b2a",
   "metadata": {},
   "outputs": [
    {
     "name": "stdout",
     "output_type": "stream",
     "text": [
      "[1, 29, 55, 56, 57, 66, 68, 71, 75, 89, 103, 109, 149, 154, 161, 182, 191, 198, 208, 248, 251, 265, 294, 312, 317, 324, 328, 336, 346, 350, 367, 400, 411, 423, 433, 439, 440, 455, 464, 491, 506, 510, 513, 515, 517, 519, 551, 581, 584, 615, 618, 625, 630, 633, 646, 663]\n",
      "[2, 30, 56, 57, 58, 67, 69, 72, 76, 90, 104, 110, 151, 156, 163, 186, 195, 202, 212, 252, 256, 270, 299, 317, 322, 329, 333, 341, 352, 356, 373, 407, 418, 430, 440, 446, 447, 463, 472, 499, 514, 518, 521, 523, 525, 527, 559, 589, 592, 623, 626, 633, 638, 641, 654, 671]\n"
     ]
    }
   ],
   "source": [
    "sample_id_set = set(sample_id_final)  # Convert to set for faster lookups\n",
    "\n",
    "final_row_index=[]\n",
    "final_WADL_id=[]\n",
    "ii=0\n",
    "for i in sample_id_final:\n",
    "    if i in WADL_ID:\n",
    "        final_row_index.append(ii)\n",
    "        final_WADL_id.append(i)\n",
    "    ii=ii+1\n",
    "\n",
    "print((final_row_index))\n",
    "print((final_WADL_id))"
   ]
  },
  {
   "cell_type": "code",
   "execution_count": 119,
   "id": "23b3a5d8-cfae-43b9-bf47-4c4b56feda04",
   "metadata": {},
   "outputs": [],
   "source": [
    "reduced_force=reduced_force_GRU[final_row_index].detach().cpu().numpy()"
   ]
  },
  {
   "cell_type": "code",
   "execution_count": 120,
   "id": "b5336d78-3a75-423e-86b7-e250900e542e",
   "metadata": {},
   "outputs": [],
   "source": [
    "## Creating final data for training and prediction\n",
    "#'Mass (g)'\n",
    "#'Unit Cell Type'\n",
    "#'x_bend (mm)'\n",
    "#'x _stretch (mm)'\n",
    "#'x_joint (mm)'\n",
    "#,'Energy Absorbed (J)'\n",
    "# ass (g)\n",
    "quasi_data=filtered_data_quasi.loc[:,['WADL ID','x_bend (mm)','x _stretch (mm)','x_joint (mm)']].values"
   ]
  },
  {
   "cell_type": "code",
   "execution_count": 121,
   "id": "dd408140-4e44-4ef8-b11b-3c850a49d715",
   "metadata": {},
   "outputs": [
    {
     "name": "stdout",
     "output_type": "stream",
     "text": [
      "(56, 4)\n",
      "(56, 2)\n"
     ]
    }
   ],
   "source": [
    "print(quasi_data.shape)\n",
    "print(reduced_force.shape)"
   ]
  },
  {
   "cell_type": "markdown",
   "id": "62a8d3a0-39f9-4dce-a150-2e9d045aeadc",
   "metadata": {},
   "source": [
    "## Concactenate features from quasi_data  and reduced F-D curve"
   ]
  },
  {
   "cell_type": "code",
   "execution_count": 122,
   "id": "c888a1da-ba7a-42c2-a9cd-cef81761c57d",
   "metadata": {},
   "outputs": [],
   "source": [
    "combined_quasi_data=np.concatenate([quasi_data,reduced_force],axis=1)"
   ]
  },
  {
   "cell_type": "markdown",
   "id": "0875828a-96da-427c-b023-77058f0d9830",
   "metadata": {},
   "source": [
    "## Extracting the accleration from impact data correspong to the final-WADL id"
   ]
  },
  {
   "cell_type": "code",
   "execution_count": 123,
   "id": "284eaac7-c503-48ac-8986-4061890b500e",
   "metadata": {
    "scrolled": true
   },
   "outputs": [],
   "source": [
    "collumns = ['WADL ID', 'Acceleration 1 (g)', 'Acceleration 2 (g)']\n",
    "impact_data_filtered_1 = filtered_data_impact_1[filtered_data_impact_1['WADL ID'].isin(final_WADL_id)]\n",
    "impact_data_filtered_1 = impact_data_filtered_1.sort_values(by='WADL ID')\n",
    "impact1 = impact_data_filtered_1.loc[:, collumns].values\n",
    "\n",
    "\n",
    "impact_data_filtered_2 = filtered_data_impact_2[filtered_data_impact_2['WADL ID'].isin(final_WADL_id)]\n",
    "impact_data_filtered_2 = impact_data_filtered_2.sort_values(by='WADL ID')\n",
    "impact2 = impact_data_filtered_2.loc[:, collumns].values\n",
    "\n"
   ]
  },
  {
   "cell_type": "code",
   "execution_count": 124,
   "id": "898fd1a9-302e-4fdb-a5df-048dd96a9a50",
   "metadata": {},
   "outputs": [
    {
     "name": "stdout",
     "output_type": "stream",
     "text": [
      "[  2.  30.  56.  57.  58.  67.  69.  72.  76.  90. 104. 110. 151. 156.\n",
      " 163. 186. 195. 202. 212. 252. 256. 270. 299. 317. 322. 329. 333. 341.\n",
      " 352. 356. 373. 407. 418. 430. 440. 446. 447. 463. 472. 499. 514. 518.\n",
      " 521. 523. 525. 527. 559. 589. 592. 623. 626. 633. 638. 641. 654. 671.]\n"
     ]
    }
   ],
   "source": [
    "print(combined_quasi_data[:,0])"
   ]
  },
  {
   "cell_type": "markdown",
   "id": "6ba251f9-6789-4c7c-a3ea-0cf29bc78467",
   "metadata": {},
   "source": [
    "## Pick the data from combined_quasi_data and match it with impact acceleration based on WADL_ID"
   ]
  },
  {
   "cell_type": "code",
   "execution_count": 125,
   "id": "7922c2f1-cd23-4e23-a55e-2d37818ad755",
   "metadata": {},
   "outputs": [
    {
     "data": {
      "text/plain": [
       "'\\n#final_combined_data=np.zeros([impact.shape[0],combined_quasi_data.shape[1]-1])\\n#wadl_index=impact[:,0].astype(int)\\n\\n# Just to train with one of the instances of impact testing rathar than different impact samples with same features\\nfinal_combined_data=np.zeros([combined_quasi_data.shape[0],combined_quasi_data.shape[1]-1])\\nwadl_index=combined_quasi_data[:,0].astype(int)\\nrow_number_first_instance=[]\\nii=0\\nfor i in (wadl_index):\\n    row_number = np.where(combined_quasi_data[:, 0] == i)[0] # remove [0] if you want all the impact data with same features(with different output) to be considered\\n    test = np.where(combined_quasi_data[:, 0] == i)\\n    final_combined_data[ii,:]=combined_quasi_data[row_number,1:]\\n    ii=ii+1 \\n'"
      ]
     },
     "execution_count": 125,
     "metadata": {},
     "output_type": "execute_result"
    }
   ],
   "source": [
    "'''\n",
    "#final_combined_data=np.zeros([impact.shape[0],combined_quasi_data.shape[1]-1])\n",
    "#wadl_index=impact[:,0].astype(int)\n",
    "\n",
    "# Just to train with one of the instances of impact testing rathar than different impact samples with same features\n",
    "final_combined_data=np.zeros([combined_quasi_data.shape[0],combined_quasi_data.shape[1]-1])\n",
    "wadl_index=combined_quasi_data[:,0].astype(int)\n",
    "row_number_first_instance=[]\n",
    "ii=0\n",
    "for i in (wadl_index):\n",
    "    row_number = np.where(combined_quasi_data[:, 0] == i)[0] # remove [0] if you want all the impact data with same features(with different output) to be considered\n",
    "    test = np.where(combined_quasi_data[:, 0] == i)\n",
    "    final_combined_data[ii,:]=combined_quasi_data[row_number,1:]\n",
    "    ii=ii+1 \n",
    "'''"
   ]
  },
  {
   "cell_type": "code",
   "execution_count": 126,
   "id": "7a590784-252b-451f-b77e-fd7027adabca",
   "metadata": {},
   "outputs": [
    {
     "name": "stdout",
     "output_type": "stream",
     "text": [
      "(118, 5)\n",
      "(116, 5)\n"
     ]
    }
   ],
   "source": [
    "\n",
    "final_combined_data_1=np.zeros([impact1.shape[0],combined_quasi_data.shape[1]-1])\n",
    "wadl_index1=impact1[:,0].astype(int)\n",
    "\n",
    "\n",
    "row_number_first_instance_1=[]\n",
    "ii=0\n",
    "for i in (wadl_index1):\n",
    "    row_number = np.where(combined_quasi_data[:, 0] == i)[0] # remove [0] if you want all the impact data with same features(with different output) to be considered\n",
    "    final_combined_data_1[ii,:]=combined_quasi_data[row_number,1:]\n",
    "    ii=ii+1\n",
    "\n",
    "\n",
    "final_combined_data_2=np.zeros([impact2.shape[0],combined_quasi_data.shape[1]-1])\n",
    "wadl_index2=impact2[:,0].astype(int)\n",
    "\n",
    "\n",
    "row_number_first_instance_2=[]\n",
    "ii=0\n",
    "for i in (wadl_index2):\n",
    "    row_number = np.where(combined_quasi_data[:, 0] == i)[0] # remove [0] if you want all the impact data with same features(with different output) to be considered\n",
    "    final_combined_data_2[ii,:]=combined_quasi_data[row_number,1:]\n",
    "    ii=ii+1\n",
    "\n",
    "print(final_combined_data_1.shape)\n",
    "print(final_combined_data_2.shape)\n"
   ]
  },
  {
   "cell_type": "code",
   "execution_count": 127,
   "id": "a12f2549-17f5-448e-99fe-e83f9609da33",
   "metadata": {},
   "outputs": [
    {
     "name": "stdout",
     "output_type": "stream",
     "text": [
      "[  2.   2.   2.   2.   2.  30.  30.  56.  56.  56.  56.  57.  57.  57.\n",
      "  58.  58.  58.  67.  67.  67.  69.  69.  69.  72.  76.  90.  90.  90.\n",
      " 104. 104. 104. 110. 151. 151. 151. 156. 156. 156. 163. 186. 195. 202.\n",
      " 212. 252. 256. 270. 270. 270. 299. 317. 317. 317. 322. 329. 333. 341.\n",
      " 352. 356. 356. 356. 373. 407. 407. 407. 418. 430. 430. 430. 440. 440.\n",
      " 440. 446. 446. 446. 447. 463. 472. 499. 499. 499. 514. 514. 514. 514.\n",
      " 514. 514. 514. 518. 521. 521. 521. 521. 523. 525. 525. 525. 527. 559.\n",
      " 589. 592. 623. 623. 623. 626. 633. 638. 638. 638. 641. 641. 641. 641.\n",
      " 654. 654. 654. 671. 671. 671.]\n"
     ]
    }
   ],
   "source": [
    "impact1.shape\n",
    "print(impact1[:,0])"
   ]
  },
  {
   "cell_type": "code",
   "execution_count": 128,
   "id": "1daa8016-c12f-4bfc-af1b-c81b711249b3",
   "metadata": {},
   "outputs": [
    {
     "name": "stdout",
     "output_type": "stream",
     "text": [
      "[0, 5, 7, 11, 14, 17, 20, 23, 24, 25, 28, 31, 32, 35, 38, 39, 40, 41, 42, 43, 44, 45, 48, 49, 52, 53, 54, 55, 56, 57, 60, 61, 64, 65, 68, 71, 74, 75, 76, 77, 80, 87, 88, 92, 93, 96, 97, 98, 99, 100, 103, 104, 105, 108, 112, 115]\n",
      "No matching row found for index 76.0\n",
      "[0, 4, 6, 10, 13, 16, 19, 22, 23, 26, 29, 30, 33, 36, 37, 38, 39, 40, 41, 42, 43, 46, 47, 50, 51, 52, 53, 54, 55, 58, 59, 62, 63, 66, 69, 72, 73, 74, 75, 78, 85, 86, 90, 91, 94, 95, 96, 97, 98, 101, 102, 103, 106, 110, 113]\n"
     ]
    }
   ],
   "source": [
    "final_combined_data_dummy=np.zeros([impact1.shape[0],combined_quasi_data.shape[1]])\n",
    "wadl_index_dummy=impact1[:,0].astype(int)\n",
    "ii=0\n",
    "\n",
    "\n",
    "for i in (wadl_index_dummy):\n",
    "    row_number_dummy = np.where(combined_quasi_data[:, 0] == i)[0][0]\n",
    "    final_combined_data_dummy[ii,:] = combined_quasi_data[row_number_dummy,:]\n",
    "    ii=ii+1  \n",
    "row_number_first_instance_1=[]\n",
    "\n",
    "\n",
    "for i in (combined_quasi_data[:,0]):\n",
    "    ro=np.where(final_combined_data_dummy[:, 0] == i)[0]\n",
    "    if ro.size > 0:\n",
    "        row_number_first_instance_1.append(ro[0])\n",
    "    else:\n",
    "        print(f\"No matching row found for index {i}\")\n",
    "        continue  # Skip this iteration or handle it as needed\n",
    "\n",
    "print(row_number_first_instance_1)\n",
    "\n",
    "\n",
    "final_combined_data_dummy=np.zeros([impact2.shape[0],combined_quasi_data.shape[1]])\n",
    "wadl_index_dummy=impact2[:,0].astype(int)\n",
    "ii=0\n",
    "\n",
    "for i in (wadl_index_dummy):\n",
    "    row_number_dummy = np.where(combined_quasi_data[:, 0] == i)[0][0]\n",
    "    final_combined_data_dummy[ii,:] = combined_quasi_data[row_number_dummy,:]\n",
    "    ii=ii+1  \n",
    "row_number_first_instance_2=[]\n",
    "\n",
    "\n",
    "\n",
    "for i in (combined_quasi_data[:,0]):\n",
    "    ro=np.where(final_combined_data_dummy[:, 0] == i)[0]\n",
    "    if ro.size > 0:\n",
    "        row_number_first_instance_2.append(ro[0])\n",
    "    else:\n",
    "        print(f\"No matching row found for index {i}\")\n",
    "        continue  # Skip this iteration or handle it as needed\n",
    "       \n",
    "print(row_number_first_instance_2)\n",
    "\n",
    "\n"
   ]
  },
  {
   "cell_type": "markdown",
   "id": "5e5a4c4f-4492-40d2-a147-3482aabc4b66",
   "metadata": {},
   "source": [
    "## Creating Final data matrix"
   ]
  },
  {
   "cell_type": "code",
   "execution_count": 129,
   "id": "e3820859-b260-4387-9f29-06d1295c9805",
   "metadata": {},
   "outputs": [],
   "source": [
    "Xdata1=final_combined_data_1[row_number_first_instance_1]## Filter out data containing zero accerleration\n",
    "\n",
    "Xdata2=final_combined_data_2[row_number_first_instance_2]\n",
    "\n",
    "Y1=impact1[:,1:2][row_number_first_instance_1] # acceleration1\n",
    "\n",
    "Y2=impact2[:,2:3][row_number_first_instance_2] # acceleration2\n"
   ]
  },
  {
   "cell_type": "code",
   "execution_count": 284,
   "id": "648ddea1-a22b-442f-99e5-c725befee1cf",
   "metadata": {},
   "outputs": [],
   "source": [
    "Xtrain, Xtest, Ytrain, Ytest=train_test_split(Xdata2[:,:5],Y2,train_size=0.8)#,random_state=1)\n",
    "#kernel= WhiteKernel()+DotProduct() + RBF(length_scale=0.05, length_scale_bounds=(1e-5, 100000.0))\n",
    "\n",
    "#kernel=RBF(length_scale=0.01, length_scale_bounds=(1e-3, 10000000.0))\n",
    "\n",
    "\n",
    "X=MinMaxScaler()\n",
    "Y=StandardScaler()"
   ]
  },
  {
   "cell_type": "code",
   "execution_count": 285,
   "id": "8b9adcfa-20a2-4fba-81b6-aaae20e87139",
   "metadata": {},
   "outputs": [],
   "source": [
    "alls=0\n",
    "if alls==1:\n",
    "    Xtrain=Xdata1.copy()\n",
    "    Ytrain=Y1.copy()\n"
   ]
  },
  {
   "cell_type": "code",
   "execution_count": 286,
   "id": "630ad0c9-5dd0-46e0-83f2-a3b2d34249a5",
   "metadata": {},
   "outputs": [
    {
     "name": "stdout",
     "output_type": "stream",
     "text": [
      "(56, 5)\n",
      "(56, 1)\n",
      "(55, 5)\n",
      "(55, 1)\n"
     ]
    }
   ],
   "source": [
    "print(Xdata1.shape)\n",
    "print(Y1.shape)\n",
    "\n",
    "\n",
    "print(Xdata2.shape)\n",
    "print(Y2.shape)"
   ]
  },
  {
   "cell_type": "code",
   "execution_count": null,
   "id": "c051e927-70f2-4cd1-b984-0a664bb780a9",
   "metadata": {},
   "outputs": [],
   "source": []
  },
  {
   "cell_type": "code",
   "execution_count": 287,
   "id": "6eb88d40-f19c-458a-9335-35bc4d77ec96",
   "metadata": {},
   "outputs": [],
   "source": [
    "Xtrain_tr=Xtrain.copy()\n",
    "Xtrain_tr[:,0:3]=X.fit_transform(Xtrain[:,0:3])\n",
    "Ytrain_tr=Y.fit_transform(Ytrain)\n",
    "\n",
    "Xtest_tr=Xtest.copy()\n",
    "Xtest_tr[:,0:3]=X.transform(Xtest[:,0:3])\n",
    "Ytest_tr=Y.transform(Ytest)\n"
   ]
  },
  {
   "cell_type": "code",
   "execution_count": 288,
   "id": "03fb7717-15fe-40df-8de0-c22879f3260e",
   "metadata": {},
   "outputs": [],
   "source": [
    "kernel= WhiteKernel(noise_level=10000)\n",
    "SD = np.std(Ytrain_tr)\n",
    "\n",
    "noise_level = (0.1 * SD) ** 2\n",
    "#kernel=RBF(length_scale=0.01, length_scale_bounds=(1e-3, 10000000.0))\n",
    "kernel= RBF(length_scale=100, length_scale_bounds=(1e-3, 10000000.0))+ WhiteKernel(noise_level=SD) # Bad\n",
    "kernel1= DotProduct(1)+ WhiteKernel(noise_level=SD)\n",
    "kernel2= Matern(length_scale=10, nu=0.01) + WhiteKernel(noise_level=noise_level)\n",
    "kernel3= RationalQuadratic(length_scale=1.0, alpha=1.0, length_scale_bounds=(0.1, 10.0)) +  WhiteKernel(noise_level=noise_level)\n"
   ]
  },
  {
   "cell_type": "code",
   "execution_count": 289,
   "id": "04392c73-8897-4a9e-848c-09e909e6d2a2",
   "metadata": {},
   "outputs": [],
   "source": [
    "#Polynomial features\n",
    "\n",
    "poly = PolynomialFeatures(degree=1, include_bias=False)\n",
    "Xtrain_tr_poly = poly.fit_transform(Xtrain)\n",
    "\n",
    "Xtest_tr_poly = poly.transform(Xtest)\n"
   ]
  },
  {
   "cell_type": "code",
   "execution_count": 290,
   "id": "99b78540-b57b-4b82-8d0a-1fc3b1065652",
   "metadata": {},
   "outputs": [
    {
     "data": {
      "text/plain": [
       "\"\\nfrom tensorflow.keras.models import Sequential\\nfrom tensorflow.keras.layers import Dense\\n\\nmodel = Sequential([\\n    Dense(16, activation='relu', input_shape=(2,)),  \\n    Dense(8, activation='relu'),                   \\n    Dense(1)                                        \\n])\\n\\nmodel.compile(optimizer='adam', loss='mse', metrics=['mae'])\""
      ]
     },
     "execution_count": 290,
     "metadata": {},
     "output_type": "execute_result"
    }
   ],
   "source": [
    "'''\n",
    "from tensorflow.keras.models import Sequential\n",
    "from tensorflow.keras.layers import Dense\n",
    "\n",
    "model = Sequential([\n",
    "    Dense(16, activation='relu', input_shape=(2,)),  \n",
    "    Dense(8, activation='relu'),                   \n",
    "    Dense(1)                                        \n",
    "])\n",
    "\n",
    "model.compile(optimizer='adam', loss='mse', metrics=['mae'])'''"
   ]
  },
  {
   "cell_type": "code",
   "execution_count": 297,
   "id": "23aa0926-17a1-4614-8266-00d7776264f1",
   "metadata": {},
   "outputs": [],
   "source": [
    "Acc1=GaussianProcessRegressor(kernel=kernel1)#,random_state=59016955)\n",
    "Acc2=LinearRegression()\n",
    "Acc3= Ridge(alpha=0.1)\n",
    "Acc4= Lasso(alpha=0.0009)\n",
    "Acc5 = RandomForestRegressor(n_estimators=100, max_depth=1000, random_state=42)\n",
    "Acc6 = SVR(kernel='rbf', C=0.1, epsilon=100)"
   ]
  },
  {
   "cell_type": "code",
   "execution_count": 298,
   "id": "49fd7019-b22e-4b0a-93e7-99ee9c40c083",
   "metadata": {},
   "outputs": [
    {
     "name": "stdout",
     "output_type": "stream",
     "text": [
      "Average MSE: 62.20705778422574\n"
     ]
    }
   ],
   "source": [
    "loo = LeaveOneOut()\n",
    "errors = []\n",
    "ypred=[]\n",
    "ytrue=[]\n",
    "# Perform LOOCV\n",
    "for train_index, test_index in loo.split(Xtrain_tr_poly):\n",
    "    X_train, X_test = Xtrain_tr_poly[train_index], Xtrain_tr_poly[test_index]\n",
    "    y_train, y_test = Ytrain_tr[train_index], Ytrain_tr[test_index]\n",
    "\n",
    "    Acc5.fit(X_train, y_train.ravel())\n",
    "    y_pred = Acc5.predict(X_test)\n",
    "    '''\n",
    "    model.fit(\n",
    "    X_train, y_train,\n",
    "    epochs=100,\n",
    "    batch_size=8,\n",
    "    verbose=0\n",
    ")\n",
    "    y_pred = model.predict(X_test)\n",
    "    '''\n",
    "    y_test=Y.inverse_transform(y_test.reshape(-1,1))[0]\n",
    "    y_pred=Y.inverse_transform(y_pred.reshape(-1,1))[0]\n",
    " \n",
    "    ypred.append(y_pred)\n",
    "    ytrue.append(y_test)\n",
    "    error = mean_squared_error(y_test, y_pred)\n",
    "    errors.append(error)\n",
    "\n",
    "avg_error = np.sqrt(np.mean(errors))\n",
    "print(f\"Average MSE: {avg_error}\")\n"
   ]
  },
  {
   "cell_type": "code",
   "execution_count": 299,
   "id": "dbf3306e-41ff-4b9e-a609-b79832afc173",
   "metadata": {},
   "outputs": [
    {
     "name": "stdout",
     "output_type": "stream",
     "text": [
      "-0.07896002444133265\n"
     ]
    }
   ],
   "source": [
    "r2_Y1=r2_score(ytrue,ypred)\n",
    "print(r2_Y1)"
   ]
  },
  {
   "cell_type": "code",
   "execution_count": 296,
   "id": "02629f1b-1019-423d-98d4-46c41e389507",
   "metadata": {},
   "outputs": [
    {
     "data": {
      "text/plain": [
       "Text(0.5, 1.0, 'Comparison between actual and predicted maximum acceleration for Impact test 1')"
      ]
     },
     "execution_count": 296,
     "metadata": {},
     "output_type": "execute_result"
    },
    {
     "data": {
      "image/png": "[encoded data removed]",
      "text/plain": [
       "<Figure size 800x600 with 1 Axes>"
      ]
     },
     "metadata": {},
     "output_type": "display_data"
    }
   ],
   "source": [
    "fig,ax=plt.subplots(figsize=(8,6))\n",
    "ax.scatter(ytrue,ypred,color='blue', alpha=0.7, edgecolor='k', label='Predicted vs Actual')\n",
    "ax.plot([min(ytrue)[0],max(ytrue)[0]],[min(ytrue)[0],max(ytrue)[0]],color='black', linestyle='--', linewidth=2, label='Ideal Fit')\n",
    "min_val = min(min(ytrue), min(ypred))\n",
    "max_val = max(max(ytrue), max(ypred))\n",
    "\n",
    "ax.set_xlim([min_val, max_val])\n",
    "ax.set_ylim([min_val, max_val])\n",
    "\n",
    "ax.set_xlabel('$a_m(g)$')\n",
    "ax.set_ylabel('$\\hat{a}_m(g)$')\n",
    "ax.set_title('Comparison between actual and predicted maximum acceleration for Impact test 1')"
   ]
  },
  {
   "cell_type": "code",
   "execution_count": 228,
   "id": "0463b7bf-00f5-431b-b98b-b888d9932b4a",
   "metadata": {},
   "outputs": [],
   "source": [
    "predict_acc1=Acc3.predict(Xtest_tr_poly).reshape(-1,1)\n",
    "predict_acc1=Y.inverse_transform(predict_acc1)\n",
    "acc1_r2=r2_score(Ytest,predict_acc1)\n",
    "acc1_msq=mean_squared_error(Ytest,predict_acc1)"
   ]
  },
  {
   "cell_type": "code",
   "execution_count": 229,
   "id": "817fe7a2-f75a-4d20-879b-08facd05db7c",
   "metadata": {},
   "outputs": [
    {
     "data": {
      "text/plain": [
       "Text(0.5, 1.0, 'Comparison between actual and predicted maximum accelration for Impact test 2')"
      ]
     },
     "execution_count": 229,
     "metadata": {},
     "output_type": "execute_result"
    },
    {
     "data": {
      "image/png": "[encoded data removed]",
      "text/plain": [
       "<Figure size 600x300 with 1 Axes>"
      ]
     },
     "metadata": {},
     "output_type": "display_data"
    }
   ],
   "source": [
    "fig,ax=plt.subplots(figsize=(6,3))\n",
    "\n",
    "ax.scatter(Ytest,predict_acc1)\n",
    "ax.plot([Ytest.min(),Ytest.max()],[Ytest.min(),Ytest.max()],color='black')\n",
    "ax.set_xlabel('$a_m(g)$')\n",
    "ax.set_ylabel('$\\hat{a}_m(g)$')\n",
    "ax.set_title('Comparison between actual and predicted maximum accelration for Impact test 2')"
   ]
  },
  {
   "cell_type": "code",
   "execution_count": 230,
   "id": "77d1f1bf-955e-419f-9e6a-2dd70a31f595",
   "metadata": {},
   "outputs": [
    {
     "name": "stdout",
     "output_type": "stream",
     "text": [
      "-0.23759888028227505\n",
      "80.44454435466996\n"
     ]
    }
   ],
   "source": [
    "print(acc1_r2)\n",
    "print(np.sqrt(acc1_msq))"
   ]
  },
  {
   "cell_type": "code",
   "execution_count": null,
   "id": "0214d7fd-eedb-46a0-a2e3-59d3de17c74b",
   "metadata": {},
   "outputs": [],
   "source": []
  }
 ],
 "metadata": {
  "kernelspec": {
   "display_name": "Python 3 (ipykernel)",
   "language": "python",
   "name": "python3"
  },
  "language_info": {
   "codemirror_mode": {
    "name": "ipython",
    "version": 3
   },
   "file_extension": ".py",
   "mimetype": "text/x-python",
   "name": "python",
   "nbconvert_exporter": "python",
   "pygments_lexer": "ipython3",
   "version": "3.11.8"
  }
 },
 "nbformat": 4,
 "nbformat_minor": 5
}
